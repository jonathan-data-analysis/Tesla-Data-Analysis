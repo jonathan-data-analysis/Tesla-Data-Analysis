{
  "nbformat": 4,
  "nbformat_minor": 0,
  "metadata": {
    "colab": {
      "name": "TSLA.ipynb",
      "provenance": [],
      "collapsed_sections": []
    },
    "kernelspec": {
      "name": "python3",
      "display_name": "Python 3"
    }
  },
  "cells": [
    {
      "cell_type": "code",
      "metadata": {
        "id": "z-wOu07gWXVE"
      },
      "source": [
        "import pandas as pd"
      ],
      "execution_count": 1,
      "outputs": []
    },
    {
      "cell_type": "code",
      "metadata": {
        "id": "zOBxdsA3WaZI"
      },
      "source": [
        "tsla_stock = pd.read_csv('https://raw.githubusercontent.com/jonathan-data-analysis/Proj_name/main/TSLA.csv')"
      ],
      "execution_count": 2,
      "outputs": []
    },
    {
      "cell_type": "code",
      "metadata": {
        "colab": {
          "base_uri": "https://localhost:8080/",
          "height": 407
        },
        "id": "0JOZFq_-WgvU",
        "outputId": "68a864b1-9262-4bd0-9abf-de102857bab9"
      },
      "source": [
        "tsla_stock"
      ],
      "execution_count": 3,
      "outputs": [
        {
          "output_type": "execute_result",
          "data": {
            "text/html": [
              "<div>\n",
              "<style scoped>\n",
              "    .dataframe tbody tr th:only-of-type {\n",
              "        vertical-align: middle;\n",
              "    }\n",
              "\n",
              "    .dataframe tbody tr th {\n",
              "        vertical-align: top;\n",
              "    }\n",
              "\n",
              "    .dataframe thead th {\n",
              "        text-align: right;\n",
              "    }\n",
              "</style>\n",
              "<table border=\"1\" class=\"dataframe\">\n",
              "  <thead>\n",
              "    <tr style=\"text-align: right;\">\n",
              "      <th></th>\n",
              "      <th>Date</th>\n",
              "      <th>Open</th>\n",
              "      <th>High</th>\n",
              "      <th>Low</th>\n",
              "      <th>Close</th>\n",
              "      <th>Adj Close</th>\n",
              "      <th>Volume</th>\n",
              "    </tr>\n",
              "  </thead>\n",
              "  <tbody>\n",
              "    <tr>\n",
              "      <th>0</th>\n",
              "      <td>2010-06-29</td>\n",
              "      <td>19.000000</td>\n",
              "      <td>25.000000</td>\n",
              "      <td>17.540001</td>\n",
              "      <td>23.889999</td>\n",
              "      <td>23.889999</td>\n",
              "      <td>18766300</td>\n",
              "    </tr>\n",
              "    <tr>\n",
              "      <th>1</th>\n",
              "      <td>2010-06-30</td>\n",
              "      <td>25.790001</td>\n",
              "      <td>30.420000</td>\n",
              "      <td>23.299999</td>\n",
              "      <td>23.830000</td>\n",
              "      <td>23.830000</td>\n",
              "      <td>17187100</td>\n",
              "    </tr>\n",
              "    <tr>\n",
              "      <th>2</th>\n",
              "      <td>2010-07-01</td>\n",
              "      <td>25.000000</td>\n",
              "      <td>25.920000</td>\n",
              "      <td>20.270000</td>\n",
              "      <td>21.959999</td>\n",
              "      <td>21.959999</td>\n",
              "      <td>8218800</td>\n",
              "    </tr>\n",
              "    <tr>\n",
              "      <th>3</th>\n",
              "      <td>2010-07-02</td>\n",
              "      <td>23.000000</td>\n",
              "      <td>23.100000</td>\n",
              "      <td>18.709999</td>\n",
              "      <td>19.200001</td>\n",
              "      <td>19.200001</td>\n",
              "      <td>5139800</td>\n",
              "    </tr>\n",
              "    <tr>\n",
              "      <th>4</th>\n",
              "      <td>2010-07-06</td>\n",
              "      <td>20.000000</td>\n",
              "      <td>20.000000</td>\n",
              "      <td>15.830000</td>\n",
              "      <td>16.110001</td>\n",
              "      <td>16.110001</td>\n",
              "      <td>6866900</td>\n",
              "    </tr>\n",
              "    <tr>\n",
              "      <th>...</th>\n",
              "      <td>...</td>\n",
              "      <td>...</td>\n",
              "      <td>...</td>\n",
              "      <td>...</td>\n",
              "      <td>...</td>\n",
              "      <td>...</td>\n",
              "      <td>...</td>\n",
              "    </tr>\n",
              "    <tr>\n",
              "      <th>2411</th>\n",
              "      <td>2020-01-28</td>\n",
              "      <td>568.489990</td>\n",
              "      <td>576.809998</td>\n",
              "      <td>558.080017</td>\n",
              "      <td>566.900024</td>\n",
              "      <td>566.900024</td>\n",
              "      <td>11788500</td>\n",
              "    </tr>\n",
              "    <tr>\n",
              "      <th>2412</th>\n",
              "      <td>2020-01-29</td>\n",
              "      <td>575.690002</td>\n",
              "      <td>589.799988</td>\n",
              "      <td>567.429993</td>\n",
              "      <td>580.989990</td>\n",
              "      <td>580.989990</td>\n",
              "      <td>17801500</td>\n",
              "    </tr>\n",
              "    <tr>\n",
              "      <th>2413</th>\n",
              "      <td>2020-01-30</td>\n",
              "      <td>632.419983</td>\n",
              "      <td>650.880005</td>\n",
              "      <td>618.000000</td>\n",
              "      <td>640.809998</td>\n",
              "      <td>640.809998</td>\n",
              "      <td>29005700</td>\n",
              "    </tr>\n",
              "    <tr>\n",
              "      <th>2414</th>\n",
              "      <td>2020-01-31</td>\n",
              "      <td>640.000000</td>\n",
              "      <td>653.000000</td>\n",
              "      <td>632.520020</td>\n",
              "      <td>650.570007</td>\n",
              "      <td>650.570007</td>\n",
              "      <td>15719300</td>\n",
              "    </tr>\n",
              "    <tr>\n",
              "      <th>2415</th>\n",
              "      <td>2020-02-03</td>\n",
              "      <td>673.690002</td>\n",
              "      <td>786.140015</td>\n",
              "      <td>673.520020</td>\n",
              "      <td>780.000000</td>\n",
              "      <td>780.000000</td>\n",
              "      <td>47065000</td>\n",
              "    </tr>\n",
              "  </tbody>\n",
              "</table>\n",
              "<p>2416 rows × 7 columns</p>\n",
              "</div>"
            ],
            "text/plain": [
              "            Date        Open        High  ...       Close   Adj Close    Volume\n",
              "0     2010-06-29   19.000000   25.000000  ...   23.889999   23.889999  18766300\n",
              "1     2010-06-30   25.790001   30.420000  ...   23.830000   23.830000  17187100\n",
              "2     2010-07-01   25.000000   25.920000  ...   21.959999   21.959999   8218800\n",
              "3     2010-07-02   23.000000   23.100000  ...   19.200001   19.200001   5139800\n",
              "4     2010-07-06   20.000000   20.000000  ...   16.110001   16.110001   6866900\n",
              "...          ...         ...         ...  ...         ...         ...       ...\n",
              "2411  2020-01-28  568.489990  576.809998  ...  566.900024  566.900024  11788500\n",
              "2412  2020-01-29  575.690002  589.799988  ...  580.989990  580.989990  17801500\n",
              "2413  2020-01-30  632.419983  650.880005  ...  640.809998  640.809998  29005700\n",
              "2414  2020-01-31  640.000000  653.000000  ...  650.570007  650.570007  15719300\n",
              "2415  2020-02-03  673.690002  786.140015  ...  780.000000  780.000000  47065000\n",
              "\n",
              "[2416 rows x 7 columns]"
            ]
          },
          "metadata": {
            "tags": []
          },
          "execution_count": 3
        }
      ]
    },
    {
      "cell_type": "code",
      "metadata": {
        "colab": {
          "base_uri": "https://localhost:8080/"
        },
        "id": "esWR3l2oWh3n",
        "outputId": "a9403966-cd5e-4f65-b86a-93cc6969abbc"
      },
      "source": [
        "tsla_stock.info()"
      ],
      "execution_count": 4,
      "outputs": [
        {
          "output_type": "stream",
          "text": [
            "<class 'pandas.core.frame.DataFrame'>\n",
            "RangeIndex: 2416 entries, 0 to 2415\n",
            "Data columns (total 7 columns):\n",
            " #   Column     Non-Null Count  Dtype  \n",
            "---  ------     --------------  -----  \n",
            " 0   Date       2416 non-null   object \n",
            " 1   Open       2416 non-null   float64\n",
            " 2   High       2416 non-null   float64\n",
            " 3   Low        2416 non-null   float64\n",
            " 4   Close      2416 non-null   float64\n",
            " 5   Adj Close  2416 non-null   float64\n",
            " 6   Volume     2416 non-null   int64  \n",
            "dtypes: float64(5), int64(1), object(1)\n",
            "memory usage: 132.2+ KB\n"
          ],
          "name": "stdout"
        }
      ]
    },
    {
      "cell_type": "code",
      "metadata": {
        "colab": {
          "base_uri": "https://localhost:8080/",
          "height": 288
        },
        "id": "s-LbW4B_WkAF",
        "outputId": "6a047b26-a232-494d-a9b1-e9ccf73c6ea3"
      },
      "source": [
        "tsla_stock.describe()"
      ],
      "execution_count": 5,
      "outputs": [
        {
          "output_type": "execute_result",
          "data": {
            "text/html": [
              "<div>\n",
              "<style scoped>\n",
              "    .dataframe tbody tr th:only-of-type {\n",
              "        vertical-align: middle;\n",
              "    }\n",
              "\n",
              "    .dataframe tbody tr th {\n",
              "        vertical-align: top;\n",
              "    }\n",
              "\n",
              "    .dataframe thead th {\n",
              "        text-align: right;\n",
              "    }\n",
              "</style>\n",
              "<table border=\"1\" class=\"dataframe\">\n",
              "  <thead>\n",
              "    <tr style=\"text-align: right;\">\n",
              "      <th></th>\n",
              "      <th>Open</th>\n",
              "      <th>High</th>\n",
              "      <th>Low</th>\n",
              "      <th>Close</th>\n",
              "      <th>Adj Close</th>\n",
              "      <th>Volume</th>\n",
              "    </tr>\n",
              "  </thead>\n",
              "  <tbody>\n",
              "    <tr>\n",
              "      <th>count</th>\n",
              "      <td>2416.000000</td>\n",
              "      <td>2416.000000</td>\n",
              "      <td>2416.000000</td>\n",
              "      <td>2416.000000</td>\n",
              "      <td>2416.000000</td>\n",
              "      <td>2.416000e+03</td>\n",
              "    </tr>\n",
              "    <tr>\n",
              "      <th>mean</th>\n",
              "      <td>186.271147</td>\n",
              "      <td>189.578224</td>\n",
              "      <td>182.916639</td>\n",
              "      <td>186.403651</td>\n",
              "      <td>186.403651</td>\n",
              "      <td>5.572722e+06</td>\n",
              "    </tr>\n",
              "    <tr>\n",
              "      <th>std</th>\n",
              "      <td>118.740163</td>\n",
              "      <td>120.892329</td>\n",
              "      <td>116.857591</td>\n",
              "      <td>119.136020</td>\n",
              "      <td>119.136020</td>\n",
              "      <td>4.987809e+06</td>\n",
              "    </tr>\n",
              "    <tr>\n",
              "      <th>min</th>\n",
              "      <td>16.139999</td>\n",
              "      <td>16.629999</td>\n",
              "      <td>14.980000</td>\n",
              "      <td>15.800000</td>\n",
              "      <td>15.800000</td>\n",
              "      <td>1.185000e+05</td>\n",
              "    </tr>\n",
              "    <tr>\n",
              "      <th>25%</th>\n",
              "      <td>34.342498</td>\n",
              "      <td>34.897501</td>\n",
              "      <td>33.587501</td>\n",
              "      <td>34.400002</td>\n",
              "      <td>34.400002</td>\n",
              "      <td>1.899275e+06</td>\n",
              "    </tr>\n",
              "    <tr>\n",
              "      <th>50%</th>\n",
              "      <td>213.035003</td>\n",
              "      <td>216.745002</td>\n",
              "      <td>208.870002</td>\n",
              "      <td>212.960007</td>\n",
              "      <td>212.960007</td>\n",
              "      <td>4.578400e+06</td>\n",
              "    </tr>\n",
              "    <tr>\n",
              "      <th>75%</th>\n",
              "      <td>266.450012</td>\n",
              "      <td>270.927513</td>\n",
              "      <td>262.102501</td>\n",
              "      <td>266.774994</td>\n",
              "      <td>266.774994</td>\n",
              "      <td>7.361150e+06</td>\n",
              "    </tr>\n",
              "    <tr>\n",
              "      <th>max</th>\n",
              "      <td>673.690002</td>\n",
              "      <td>786.140015</td>\n",
              "      <td>673.520020</td>\n",
              "      <td>780.000000</td>\n",
              "      <td>780.000000</td>\n",
              "      <td>4.706500e+07</td>\n",
              "    </tr>\n",
              "  </tbody>\n",
              "</table>\n",
              "</div>"
            ],
            "text/plain": [
              "              Open         High  ...    Adj Close        Volume\n",
              "count  2416.000000  2416.000000  ...  2416.000000  2.416000e+03\n",
              "mean    186.271147   189.578224  ...   186.403651  5.572722e+06\n",
              "std     118.740163   120.892329  ...   119.136020  4.987809e+06\n",
              "min      16.139999    16.629999  ...    15.800000  1.185000e+05\n",
              "25%      34.342498    34.897501  ...    34.400002  1.899275e+06\n",
              "50%     213.035003   216.745002  ...   212.960007  4.578400e+06\n",
              "75%     266.450012   270.927513  ...   266.774994  7.361150e+06\n",
              "max     673.690002   786.140015  ...   780.000000  4.706500e+07\n",
              "\n",
              "[8 rows x 6 columns]"
            ]
          },
          "metadata": {
            "tags": []
          },
          "execution_count": 5
        }
      ]
    },
    {
      "cell_type": "code",
      "metadata": {
        "id": "E37vCKu2Wlpi"
      },
      "source": [
        ""
      ],
      "execution_count": null,
      "outputs": []
    }
  ]
}