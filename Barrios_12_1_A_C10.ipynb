{
  "nbformat": 4,
  "nbformat_minor": 0,
  "metadata": {
    "colab": {
      "name": "Barrios.12.1.A.C10.ipynb",
      "provenance": [],
      "collapsed_sections": [
        "SDswsgx3y_6x",
        "NRUJxws7zJJz",
        "YVOMSu4C0OOP",
        "Uu8PrZHPEm9x"
      ]
    },
    "kernelspec": {
      "name": "python3",
      "display_name": "Python 3"
    }
  },
  "cells": [
    {
      "cell_type": "markdown",
      "metadata": {
        "id": "SDswsgx3y_6x"
      },
      "source": [
        "## Importing Packages\n"
      ]
    },
    {
      "cell_type": "code",
      "metadata": {
        "id": "jb1xfDoSBm36"
      },
      "source": [
        "import numpy as np\n",
        "import pandas as pd"
      ],
      "execution_count": null,
      "outputs": []
    },
    {
      "cell_type": "markdown",
      "metadata": {
        "id": "NRUJxws7zJJz"
      },
      "source": [
        "## Why Numpy?\n",
        "\n",
        "Numpy comes installed by default on Google Colaboratory, and Thinkful's Jupyter notebook system also has it preinstalled. That means that you don't need to use pip to install Numpy for your coursework. You should know, however, that when working with Python in a \"from scratch\" environment, you would need to install Numpy.\n",
        "\n",
        ">Note: Pandas is built on top of NumPy and is intended to integrate well within a scientific computing environment with many other 3rd party libraries.\n",
        "\n",
        "Numpy was designed to make manipulating data easy. The fundamental structure that it uses is the *array*.  A Numpy array is a table of elements, all of the same type. Arrays may be one-dimensional, two-, or even higher-dimensional. \n",
        "\n",
        "<center>\n",
        "\n",
        "![python4_intro_01.png](data:image/png;base64,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)\n",
        "\n",
        "</center>\n",
        "\n",
        "### Numpy Arrays\n",
        "\n",
        "Each dimension is called an *axis*. In a one-dimensional array, there is only a single axis; in a two- dimensional array, there are two *axes*; and in a three-dimensional array there are three axes, etc. The axes of the array are indexed by integers. We refer to individual values in the array by the index of the axis.\n",
        "\n",
        "To work with Numpy first import the library.\n"
      ]
    },
    {
      "cell_type": "code",
      "metadata": {
        "colab": {
          "base_uri": "https://localhost:8080/"
        },
        "id": "0-WNegg-jz89",
        "outputId": "f33ae7c3-facb-449e-e565-965e6e97f0fd"
      },
      "source": [
        "# one dimensinal array (column)\n",
        "a = np.array([5,3,7,2,9,6,1,4,8])\n",
        "print(a)"
      ],
      "execution_count": null,
      "outputs": [
        {
          "output_type": "stream",
          "text": [
            "[5 3 7 2 9 6 1 4 8]\n"
          ],
          "name": "stdout"
        }
      ]
    },
    {
      "cell_type": "code",
      "metadata": {
        "id": "pRTpr74skzNT",
        "colab": {
          "base_uri": "https://localhost:8080/"
        },
        "outputId": "be8eae0b-a917-4460-f4da-22717f4b2599"
      },
      "source": [
        "# print array by index\n",
        "print(a[3])"
      ],
      "execution_count": null,
      "outputs": [
        {
          "output_type": "stream",
          "text": [
            "2\n"
          ],
          "name": "stdout"
        }
      ]
    },
    {
      "cell_type": "code",
      "metadata": {
        "id": "NKX3qW2FB1VP",
        "colab": {
          "base_uri": "https://localhost:8080/"
        },
        "outputId": "6bb2163a-feb8-4de7-ef55-2d5c151e9901"
      },
      "source": [
        "# two dimension array (columns and rows)\n",
        "b = np.array([[2,4,6],[3,5,7]])\n",
        "print(b)\n"
      ],
      "execution_count": null,
      "outputs": [
        {
          "output_type": "execute_result",
          "data": {
            "text/plain": [
              "array([[2, 4, 6],\n",
              "       [3, 5, 7]])"
            ]
          },
          "metadata": {
            "tags": []
          },
          "execution_count": 17
        }
      ]
    },
    {
      "cell_type": "code",
      "metadata": {
        "id": "26dofxcTkvo5",
        "colab": {
          "base_uri": "https://localhost:8080/"
        },
        "outputId": "6d2c4301-81b8-4cfd-c800-b10f467e7889"
      },
      "source": [
        "# print array by index\n",
        "print(b[1,2])"
      ],
      "execution_count": null,
      "outputs": [
        {
          "output_type": "stream",
          "text": [
            "7\n"
          ],
          "name": "stdout"
        }
      ]
    },
    {
      "cell_type": "code",
      "metadata": {
        "id": "1jLF9q15B7Mf",
        "colab": {
          "base_uri": "https://localhost:8080/"
        },
        "outputId": "c96b62dc-2a39-4b60-ba93-b96e31875364"
      },
      "source": [
        "# using ranges\n",
        "c = np.arange(20,50,3)\n",
        "print(c)"
      ],
      "execution_count": null,
      "outputs": [
        {
          "output_type": "stream",
          "text": [
            "[20 23 26 29 32 35 38 41 44 47]\n"
          ],
          "name": "stdout"
        }
      ]
    },
    {
      "cell_type": "code",
      "metadata": {
        "id": "IZkPsbGhCzBe",
        "colab": {
          "base_uri": "https://localhost:8080/"
        },
        "outputId": "1603a809-3629-4d55-9e73-b9cfe4bd33cb"
      },
      "source": [
        "# ..or ones (can be used when you initialize the weights in TensorFlow(ML) and other statistical tasks.)\n",
        "# much like the zeros() function\n",
        "f = np.ones((5,8))\n",
        "# print(f)\n",
        "\n",
        "f2 = f.reshape(4,10)\n",
        "print(f2)"
      ],
      "execution_count": null,
      "outputs": [
        {
          "output_type": "stream",
          "text": [
            "[[1. 1. 1. 1. 1. 1. 1. 1. 1. 1.]\n",
            " [1. 1. 1. 1. 1. 1. 1. 1. 1. 1.]\n",
            " [1. 1. 1. 1. 1. 1. 1. 1. 1. 1.]\n",
            " [1. 1. 1. 1. 1. 1. 1. 1. 1. 1.]]\n"
          ],
          "name": "stdout"
        }
      ]
    },
    {
      "cell_type": "code",
      "metadata": {
        "id": "O3vdgXeNC3Rn",
        "colab": {
          "base_uri": "https://localhost:8080/"
        },
        "outputId": "7b980d63-cf94-4417-93af-2bf7235d3f33"
      },
      "source": [
        "# We can even reshape our array\n",
        "g = np.arange(20)\n",
        "print(g)\n",
        "\n",
        "g2 = g.reshape(4,5)\n",
        "print(g2)"
      ],
      "execution_count": null,
      "outputs": [
        {
          "output_type": "stream",
          "text": [
            "[ 0  1  2  3  4  5  6  7  8  9 10 11 12 13 14 15 16 17 18 19]\n",
            "[[ 0  1  2  3  4]\n",
            " [ 5  6  7  8  9]\n",
            " [10 11 12 13 14]\n",
            " [15 16 17 18 19]]\n"
          ],
          "name": "stdout"
        }
      ]
    },
    {
      "cell_type": "code",
      "metadata": {
        "id": "jrnQky3FC8rX",
        "colab": {
          "base_uri": "https://localhost:8080/"
        },
        "outputId": "dbb677cd-a6fc-4d39-ba96-5c4f0dd49b56"
      },
      "source": [
        "my_array = np.arange(25).reshape(5,5)\n",
        "\n",
        "#print the number of axes in the array\n",
        "print('There are {} axes in this array'.format(my_array.ndim))\n",
        "# print('There are ' + str(my_array.ndim) + ' axes in this array')\n",
        "\n",
        "#print the shape of the array\n",
        "print('This is a {} array'.format(my_array.shape))\n",
        "\n",
        "#print the size of the array\n",
        "print('This array contains {} elements'.format(my_array.size))\n",
        "\n",
        "#print the data type of the elements\n",
        "print('This array contains values of type: {}'.format(my_array.dtype))"
      ],
      "execution_count": null,
      "outputs": [
        {
          "output_type": "stream",
          "text": [
            "There are 2 axes in this array\n",
            "This is a (5, 5) array\n",
            "This array contains 25 elements\n",
            "This array contains values of type: int64\n"
          ],
          "name": "stdout"
        }
      ]
    },
    {
      "cell_type": "markdown",
      "metadata": {
        "id": "YVOMSu4C0OOP"
      },
      "source": [
        "## Finding the Final Grades"
      ]
    },
    {
      "cell_type": "markdown",
      "metadata": {
        "id": "nsCaxcZeDrus"
      },
      "source": [
        "A class of 30 students completed a coursework assessment worth 40% and a final exam worth 60% of the final grade. The grades for the coursework and the marks for the exam are in two arrays. Find the total for each student by adding corresponding grades from the two arrays."
      ]
    },
    {
      "cell_type": "code",
      "metadata": {
        "id": "cpR6XHMjDoP4"
      },
      "source": [
        "np.random.seed(9) # \"setting the seed\": random but repeatable\n",
        "cw_marks = np.random.randint(0,41,30)\n",
        "exam_marks = np.random.randint(0,61,30)"
      ],
      "execution_count": null,
      "outputs": []
    },
    {
      "cell_type": "code",
      "metadata": {
        "id": "stI7r51c0pNd",
        "colab": {
          "base_uri": "https://localhost:8080/"
        },
        "outputId": "844d696c-f3d7-4ab5-b42d-a9245871a14d"
      },
      "source": [
        "print(\"--- The coursework scores are below ---\")\n",
        "print(cw_marks)\n",
        "print(\"The Final exam scores are below ---\")\n",
        "print (exam_marks)\n",
        "\n",
        "totals = cw_marks + exam_marks\n",
        "\n",
        "print(\"The final student grades are:\")\n",
        "print(totals)"
      ],
      "execution_count": null,
      "outputs": [
        {
          "output_type": "stream",
          "text": [
            "--- The coursework scores are below ---\n",
            "[28 22  1 22 40 27 33 29 28  0 24 10 29 12 18 22  1 35 11 37 19 38  9 16\n",
            " 40 13 33 13 29 22]\n",
            "The Final exam scores are below ---\n",
            "[50 40  4 53 35 52 58  0 10 56 16  4 47  5 52 24 19 30 40  4 59  8  0  1\n",
            " 34 45 27 44 51 13]\n",
            "The final student grades are:\n",
            "[78 62  5 75 75 79 91 29 38 56 40 14 76 17 70 46 20 65 51 41 78 46  9 17\n",
            " 74 58 60 57 80 35]\n"
          ],
          "name": "stdout"
        }
      ]
    },
    {
      "cell_type": "code",
      "metadata": {
        "id": "LnyyHWHqD0xg",
        "colab": {
          "base_uri": "https://localhost:8080/"
        },
        "outputId": "2a89b345-09d9-478c-c16d-d9f1906c7cab"
      },
      "source": [
        "#Now we can do aggregations on these grades\n",
        "print('The highest mark in the course was {}'.format(np.max(totals)))\n",
        "print('The lowest mark in the course was {}'.format(np.min(totals)))\n",
        "print('The mean grade in the course was {}'.format(np.mean(totals)))\n",
        "print('The standard deviation of the grades in the course was {}'.format(np.std(totals)))"
      ],
      "execution_count": null,
      "outputs": [
        {
          "output_type": "stream",
          "text": [
            "The highest mark in the course was 91\n",
            "The lowest mark in the course was 5\n",
            "The mean grade in the course was 51.4\n",
            "The standard deviation of the grades in the course was 24.19035620517675\n"
          ],
          "name": "stdout"
        }
      ]
    },
    {
      "cell_type": "markdown",
      "metadata": {
        "id": "Uu8PrZHPEm9x"
      },
      "source": [
        "## Pandas: Series"
      ]
    },
    {
      "cell_type": "code",
      "metadata": {
        "colab": {
          "base_uri": "https://localhost:8080/"
        },
        "id": "OvPuBJF1aTz-",
        "outputId": "627a3b82-118a-4cd1-ffd0-bcf066bf3fa7"
      },
      "source": [
        "# You can use a list to create a series (one dimensional)\n",
        "data = [1,2,3,4]\n",
        "test_data = pd.Series(data)\n",
        "print(test_data)"
      ],
      "execution_count": null,
      "outputs": [
        {
          "output_type": "stream",
          "text": [
            "0    1\n",
            "1    2\n",
            "2    3\n",
            "3    4\n",
            "dtype: int64\n"
          ],
          "name": "stdout"
        }
      ]
    },
    {
      "cell_type": "code",
      "metadata": {
        "colab": {
          "base_uri": "https://localhost:8080/"
        },
        "id": "ID54xVb6avRr",
        "outputId": "8646310f-a487-4f80-8135-2aac97789509"
      },
      "source": [
        "# Using a dictionary gives us an index using keys (one dimensional)\n",
        "data_dict = {'one': 1, 'two': 2, 'three': 3, 'four': 4 }\n",
        "test_dict = pd.Series(data_dict)\n",
        "print(test_dict)"
      ],
      "execution_count": null,
      "outputs": [
        {
          "output_type": "stream",
          "text": [
            "one      1\n",
            "two      2\n",
            "three    3\n",
            "four     4\n",
            "dtype: int64\n"
          ],
          "name": "stdout"
        }
      ]
    },
    {
      "cell_type": "code",
      "metadata": {
        "id": "3d9W7ihJEpR4",
        "colab": {
          "base_uri": "https://localhost:8080/"
        },
        "outputId": "c33d907b-14ad-49dc-d673-f558c1511147"
      },
      "source": [
        "# To review, a series = a single column (one dimensional)\n",
        "ages = pd.Series(np.array([20,34,28,26,39,35,34,36,38]))\n",
        "print(ages)"
      ],
      "execution_count": null,
      "outputs": [
        {
          "output_type": "stream",
          "text": [
            "0    20\n",
            "1    34\n",
            "2    28\n",
            "3    26\n",
            "4    39\n",
            "5    35\n",
            "6    34\n",
            "7    36\n",
            "8    38\n",
            "dtype: int64\n"
          ],
          "name": "stdout"
        }
      ]
    },
    {
      "cell_type": "markdown",
      "metadata": {
        "id": "fLipc2ymE78u"
      },
      "source": [
        "The numbers on the left are row index numbers that have been automatically generated. Again, imagine a spreadsheet with just a single column, even that spreadsheet will have row numbers on the left.\n"
      ]
    },
    {
      "cell_type": "code",
      "metadata": {
        "id": "_NUlLAJ3E9UH",
        "colab": {
          "base_uri": "https://localhost:8080/"
        },
        "outputId": "04bbd9d4-fd46-4e2c-c3f3-d3554bc483d1"
      },
      "source": [
        "# we can use anything as our row index and values, not just numbers\n",
        "values = np.array(['1st', '2nd', '3rd', '4th', '5th', '6th', '7th', '8th'])\n",
        "names_list = ['Bucks','Raptors','Celtics','Pacers','Heat','Sixers','Nets','Magic']\n",
        "\n",
        "teams = pd.Series(values, index=names_list)\n",
        "print(teams)"
      ],
      "execution_count": null,
      "outputs": [
        {
          "output_type": "stream",
          "text": [
            "Bucks      1st\n",
            "Raptors    2nd\n",
            "Celtics    3rd\n",
            "Pacers     4th\n",
            "Heat       5th\n",
            "Sixers     6th\n",
            "Nets       7th\n",
            "Magic      8th\n",
            "dtype: object\n"
          ],
          "name": "stdout"
        }
      ]
    },
    {
      "cell_type": "code",
      "metadata": {
        "id": "stkeSgqbFRPv",
        "colab": {
          "base_uri": "https://localhost:8080/"
        },
        "outputId": "330e4446-a008-4b9a-f23a-0e128242bafd"
      },
      "source": [
        "#A Series can also be made from a dictionary\n",
        "points = {\n",
        "    'Liverpool':69,\n",
        "    'Man City':68,\n",
        "    'Tottenham':60,\n",
        "    'Arsenal':56,\n",
        "    'Man United':55\n",
        "}\n",
        "\n",
        "standings = pd.Series(points)\n",
        "\n",
        "print(standings)"
      ],
      "execution_count": null,
      "outputs": [
        {
          "output_type": "stream",
          "text": [
            "Liverpool     69\n",
            "Man City      68\n",
            "Tottenham     60\n",
            "Arsenal       56\n",
            "Man United    55\n",
            "dtype: int64\n"
          ],
          "name": "stdout"
        }
      ]
    },
    {
      "cell_type": "code",
      "metadata": {
        "id": "ZUzoBpBGF7BB",
        "colab": {
          "base_uri": "https://localhost:8080/"
        },
        "outputId": "e057fcc8-9ae3-474c-f852-5daf1a77fdec"
      },
      "source": [
        "print('The highest rated team has {} points'.format(standings.max()))\n",
        "print('The lowest rates tema has {} points'.format(standings.min()))\n",
        "print('The average point total is {}'.format(standings.mean()))\n",
        "print('The standard deviation of points in the league is {}'.format(standings.std()))"
      ],
      "execution_count": null,
      "outputs": [
        {
          "output_type": "stream",
          "text": [
            "The highest rated team has 69 points\n",
            "The lowest rates tema has 55 points\n",
            "The average point total is 61.6\n",
            "The standard deviation of points in the league is 6.58027355054484\n"
          ],
          "name": "stdout"
        }
      ]
    },
    {
      "cell_type": "code",
      "metadata": {
        "id": "eeX96q6_Ijps",
        "colab": {
          "base_uri": "https://localhost:8080/"
        },
        "outputId": "b47853cf-0dd2-44c6-c922-0659e503e732"
      },
      "source": [
        "#We can also use .describe() to get all the summary statistics\n",
        "standings.describe()"
      ],
      "execution_count": null,
      "outputs": [
        {
          "output_type": "execute_result",
          "data": {
            "text/plain": [
              "count     5.000000\n",
              "mean     61.600000\n",
              "std       6.580274\n",
              "min      55.000000\n",
              "25%      56.000000\n",
              "50%      60.000000\n",
              "75%      68.000000\n",
              "max      69.000000\n",
              "dtype: float64"
            ]
          },
          "metadata": {
            "tags": []
          },
          "execution_count": 64
        }
      ]
    },
    {
      "cell_type": "markdown",
      "metadata": {
        "id": "XuIgl9dD4IpZ"
      },
      "source": [
        "## Pandas: DataFrames"
      ]
    },
    {
      "cell_type": "code",
      "metadata": {
        "id": "muO-lhtzI_Yi",
        "colab": {
          "base_uri": "https://localhost:8080/"
        },
        "outputId": "af04a690-5a17-4039-cbf6-fdd012243ee6"
      },
      "source": [
        "# importing a csv\n",
        "df = pd.read_csv('https://tf-assets-prod.s3.amazonaws.com/tf-curric/data-analytics-bootcamp/songs.csv')\n",
        "df.info()\n",
        "\n",
        "# Check for missing values below 👇🏼"
      ],
      "execution_count": null,
      "outputs": [
        {
          "output_type": "stream",
          "text": [
            "<class 'pandas.core.frame.DataFrame'>\n",
            "RangeIndex: 2229 entries, 0 to 2228\n",
            "Data columns (total 8 columns):\n",
            " #   Column        Non-Null Count  Dtype \n",
            "---  ------        --------------  ----- \n",
            " 0   Song Clean    2229 non-null   object\n",
            " 1   ARTIST CLEAN  2229 non-null   object\n",
            " 2   Release Year  1652 non-null   object\n",
            " 3   COMBINED      2229 non-null   object\n",
            " 4   First?        2229 non-null   int64 \n",
            " 5   Year?         2229 non-null   int64 \n",
            " 6   PlayCount     2229 non-null   int64 \n",
            " 7   F*G           2229 non-null   int64 \n",
            "dtypes: int64(4), object(4)\n",
            "memory usage: 139.4+ KB\n"
          ],
          "name": "stdout"
        }
      ]
    },
    {
      "cell_type": "code",
      "metadata": {
        "id": "TVyDuVsQMXv5",
        "colab": {
          "base_uri": "https://localhost:8080/",
          "height": 141
        },
        "outputId": "85ae27ae-b1ec-4145-f5de-b02e7ef2179f"
      },
      "source": [
        "# taking a peek at our data\n",
        "df.head(3)\n",
        "\n",
        "# NaN will give us an object instead of a number, why?"
      ],
      "execution_count": null,
      "outputs": [
        {
          "output_type": "execute_result",
          "data": {
            "text/html": [
              "<div>\n",
              "<style scoped>\n",
              "    .dataframe tbody tr th:only-of-type {\n",
              "        vertical-align: middle;\n",
              "    }\n",
              "\n",
              "    .dataframe tbody tr th {\n",
              "        vertical-align: top;\n",
              "    }\n",
              "\n",
              "    .dataframe thead th {\n",
              "        text-align: right;\n",
              "    }\n",
              "</style>\n",
              "<table border=\"1\" class=\"dataframe\">\n",
              "  <thead>\n",
              "    <tr style=\"text-align: right;\">\n",
              "      <th></th>\n",
              "      <th>Song Clean</th>\n",
              "      <th>ARTIST CLEAN</th>\n",
              "      <th>Release Year</th>\n",
              "      <th>COMBINED</th>\n",
              "      <th>First?</th>\n",
              "      <th>Year?</th>\n",
              "      <th>PlayCount</th>\n",
              "      <th>F*G</th>\n",
              "    </tr>\n",
              "  </thead>\n",
              "  <tbody>\n",
              "    <tr>\n",
              "      <th>0</th>\n",
              "      <td>Caught Up in You</td>\n",
              "      <td>.38 Special</td>\n",
              "      <td>1982</td>\n",
              "      <td>Caught Up in You by .38 Special</td>\n",
              "      <td>1</td>\n",
              "      <td>1</td>\n",
              "      <td>82</td>\n",
              "      <td>82</td>\n",
              "    </tr>\n",
              "    <tr>\n",
              "      <th>1</th>\n",
              "      <td>Fantasy Girl</td>\n",
              "      <td>.38 Special</td>\n",
              "      <td>NaN</td>\n",
              "      <td>Fantasy Girl by .38 Special</td>\n",
              "      <td>1</td>\n",
              "      <td>0</td>\n",
              "      <td>3</td>\n",
              "      <td>0</td>\n",
              "    </tr>\n",
              "    <tr>\n",
              "      <th>2</th>\n",
              "      <td>Hold On Loosely</td>\n",
              "      <td>.38 Special</td>\n",
              "      <td>1981</td>\n",
              "      <td>Hold On Loosely by .38 Special</td>\n",
              "      <td>1</td>\n",
              "      <td>1</td>\n",
              "      <td>85</td>\n",
              "      <td>85</td>\n",
              "    </tr>\n",
              "  </tbody>\n",
              "</table>\n",
              "</div>"
            ],
            "text/plain": [
              "         Song Clean ARTIST CLEAN Release Year  ... Year?  PlayCount  F*G\n",
              "0  Caught Up in You  .38 Special         1982  ...     1         82   82\n",
              "1      Fantasy Girl  .38 Special          NaN  ...     0          3    0\n",
              "2   Hold On Loosely  .38 Special         1981  ...     1         85   85\n",
              "\n",
              "[3 rows x 8 columns]"
            ]
          },
          "metadata": {
            "tags": []
          },
          "execution_count": 68
        }
      ]
    },
    {
      "cell_type": "code",
      "metadata": {
        "id": "I2SVjYLcMyio",
        "colab": {
          "base_uri": "https://localhost:8080/"
        },
        "outputId": "5b0baf17-65d8-4f28-f69e-5d5b95e6ac4b"
      },
      "source": [
        "#Create a dataframe from a dictionary\n",
        "league_dict = {\n",
        "    'club':['Man City','Liverpool','Tottenham','Man U','Arsenal'],\n",
        "    'MP':[29,29,29,29,29],\n",
        "    'W':[23,21,20,17,17],\n",
        "    'D':[2,7,1,7,6],\n",
        "    'L':[4,1,8,5,6],\n",
        "    'GF':[76,64,56,38,39],\n",
        "    'GA':[20,15,30,20,39],\n",
        "    'GD':[56,49,26,20,22],\n",
        "    'Pts':[71,70,61,58,57]\n",
        "}\n",
        "# DataFrame = columns and rows\n",
        "league_df = pd.DataFrame(league_dict)\n",
        "league_df.info()"
      ],
      "execution_count": null,
      "outputs": [
        {
          "output_type": "stream",
          "text": [
            "<class 'pandas.core.frame.DataFrame'>\n",
            "RangeIndex: 5 entries, 0 to 4\n",
            "Data columns (total 9 columns):\n",
            " #   Column  Non-Null Count  Dtype \n",
            "---  ------  --------------  ----- \n",
            " 0   club    5 non-null      object\n",
            " 1   MP      5 non-null      int64 \n",
            " 2   W       5 non-null      int64 \n",
            " 3   D       5 non-null      int64 \n",
            " 4   L       5 non-null      int64 \n",
            " 5   GF      5 non-null      int64 \n",
            " 6   GA      5 non-null      int64 \n",
            " 7   GD      5 non-null      int64 \n",
            " 8   Pts     5 non-null      int64 \n",
            "dtypes: int64(8), object(1)\n",
            "memory usage: 488.0+ bytes\n"
          ],
          "name": "stdout"
        }
      ]
    },
    {
      "cell_type": "code",
      "metadata": {
        "id": "8dsvomLYNYvt",
        "colab": {
          "base_uri": "https://localhost:8080/",
          "height": 203
        },
        "outputId": "b63fff69-25f6-406e-d820-04b40061a940"
      },
      "source": [
        "league_df.head(10)"
      ],
      "execution_count": null,
      "outputs": [
        {
          "output_type": "execute_result",
          "data": {
            "text/html": [
              "<div>\n",
              "<style scoped>\n",
              "    .dataframe tbody tr th:only-of-type {\n",
              "        vertical-align: middle;\n",
              "    }\n",
              "\n",
              "    .dataframe tbody tr th {\n",
              "        vertical-align: top;\n",
              "    }\n",
              "\n",
              "    .dataframe thead th {\n",
              "        text-align: right;\n",
              "    }\n",
              "</style>\n",
              "<table border=\"1\" class=\"dataframe\">\n",
              "  <thead>\n",
              "    <tr style=\"text-align: right;\">\n",
              "      <th></th>\n",
              "      <th>club</th>\n",
              "      <th>MP</th>\n",
              "      <th>W</th>\n",
              "      <th>D</th>\n",
              "      <th>L</th>\n",
              "      <th>GF</th>\n",
              "      <th>GA</th>\n",
              "      <th>GD</th>\n",
              "      <th>Pts</th>\n",
              "    </tr>\n",
              "  </thead>\n",
              "  <tbody>\n",
              "    <tr>\n",
              "      <th>0</th>\n",
              "      <td>Man City</td>\n",
              "      <td>29</td>\n",
              "      <td>23</td>\n",
              "      <td>2</td>\n",
              "      <td>4</td>\n",
              "      <td>76</td>\n",
              "      <td>20</td>\n",
              "      <td>56</td>\n",
              "      <td>71</td>\n",
              "    </tr>\n",
              "    <tr>\n",
              "      <th>1</th>\n",
              "      <td>Liverpool</td>\n",
              "      <td>29</td>\n",
              "      <td>21</td>\n",
              "      <td>7</td>\n",
              "      <td>1</td>\n",
              "      <td>64</td>\n",
              "      <td>15</td>\n",
              "      <td>49</td>\n",
              "      <td>70</td>\n",
              "    </tr>\n",
              "    <tr>\n",
              "      <th>2</th>\n",
              "      <td>Tottenham</td>\n",
              "      <td>29</td>\n",
              "      <td>20</td>\n",
              "      <td>1</td>\n",
              "      <td>8</td>\n",
              "      <td>56</td>\n",
              "      <td>30</td>\n",
              "      <td>26</td>\n",
              "      <td>61</td>\n",
              "    </tr>\n",
              "    <tr>\n",
              "      <th>3</th>\n",
              "      <td>Man U</td>\n",
              "      <td>29</td>\n",
              "      <td>17</td>\n",
              "      <td>7</td>\n",
              "      <td>5</td>\n",
              "      <td>38</td>\n",
              "      <td>20</td>\n",
              "      <td>20</td>\n",
              "      <td>58</td>\n",
              "    </tr>\n",
              "    <tr>\n",
              "      <th>4</th>\n",
              "      <td>Arsenal</td>\n",
              "      <td>29</td>\n",
              "      <td>17</td>\n",
              "      <td>6</td>\n",
              "      <td>6</td>\n",
              "      <td>39</td>\n",
              "      <td>39</td>\n",
              "      <td>22</td>\n",
              "      <td>57</td>\n",
              "    </tr>\n",
              "  </tbody>\n",
              "</table>\n",
              "</div>"
            ],
            "text/plain": [
              "        club  MP   W  D  L  GF  GA  GD  Pts\n",
              "0   Man City  29  23  2  4  76  20  56   71\n",
              "1  Liverpool  29  21  7  1  64  15  49   70\n",
              "2  Tottenham  29  20  1  8  56  30  26   61\n",
              "3      Man U  29  17  7  5  38  20  20   58\n",
              "4    Arsenal  29  17  6  6  39  39  22   57"
            ]
          },
          "metadata": {
            "tags": []
          },
          "execution_count": 71
        }
      ]
    },
    {
      "cell_type": "markdown",
      "metadata": {
        "id": "RhslED2XCYsq"
      },
      "source": [
        "## Manipulating DataFrames: Columns and Filtering"
      ]
    },
    {
      "cell_type": "code",
      "metadata": {
        "id": "z5dKQyB3Ncdx",
        "colab": {
          "base_uri": "https://localhost:8080/",
          "height": 580
        },
        "outputId": "14312c6f-f858-49c4-d553-b91160c03b8d"
      },
      "source": [
        "# we can also use pandas for other file types\n",
        "shots_df = pd.read_json('https://tf-assets-prod.s3.amazonaws.com/tf-curric/data-analytics-bootcamp/shots.json')\n",
        "shots_df.info()\n",
        "shots_df.head(10)"
      ],
      "execution_count": null,
      "outputs": [
        {
          "output_type": "stream",
          "text": [
            "<class 'pandas.core.frame.DataFrame'>\n",
            "RangeIndex: 432 entries, 0 to 431\n",
            "Data columns (total 6 columns):\n",
            " #   Column           Non-Null Count  Dtype \n",
            "---  ------           --------------  ----- \n",
            " 0   location         432 non-null    object\n",
            " 1   month            432 non-null    object\n",
            " 2   number_of_shots  432 non-null    int64 \n",
            " 3   program_name     432 non-null    object\n",
            " 4   visits           432 non-null    int64 \n",
            " 5   year             432 non-null    int64 \n",
            "dtypes: int64(3), object(3)\n",
            "memory usage: 20.4+ KB\n"
          ],
          "name": "stdout"
        },
        {
          "output_type": "execute_result",
          "data": {
            "text/html": [
              "<div>\n",
              "<style scoped>\n",
              "    .dataframe tbody tr th:only-of-type {\n",
              "        vertical-align: middle;\n",
              "    }\n",
              "\n",
              "    .dataframe tbody tr th {\n",
              "        vertical-align: top;\n",
              "    }\n",
              "\n",
              "    .dataframe thead th {\n",
              "        text-align: right;\n",
              "    }\n",
              "</style>\n",
              "<table border=\"1\" class=\"dataframe\">\n",
              "  <thead>\n",
              "    <tr style=\"text-align: right;\">\n",
              "      <th></th>\n",
              "      <th>location</th>\n",
              "      <th>month</th>\n",
              "      <th>number_of_shots</th>\n",
              "      <th>program_name</th>\n",
              "      <th>visits</th>\n",
              "      <th>year</th>\n",
              "    </tr>\n",
              "  </thead>\n",
              "  <tbody>\n",
              "    <tr>\n",
              "      <th>0</th>\n",
              "      <td>Far South</td>\n",
              "      <td>OCT</td>\n",
              "      <td>1118</td>\n",
              "      <td>Shots for Tots</td>\n",
              "      <td>436</td>\n",
              "      <td>2010</td>\n",
              "    </tr>\n",
              "    <tr>\n",
              "      <th>1</th>\n",
              "      <td>Far South</td>\n",
              "      <td>NOV</td>\n",
              "      <td>1600</td>\n",
              "      <td>Shots for Tots</td>\n",
              "      <td>879</td>\n",
              "      <td>2010</td>\n",
              "    </tr>\n",
              "    <tr>\n",
              "      <th>2</th>\n",
              "      <td>Far South</td>\n",
              "      <td>DEC</td>\n",
              "      <td>1379</td>\n",
              "      <td>Shots for Tots</td>\n",
              "      <td>818</td>\n",
              "      <td>2010</td>\n",
              "    </tr>\n",
              "    <tr>\n",
              "      <th>3</th>\n",
              "      <td>Far South</td>\n",
              "      <td>JAN</td>\n",
              "      <td>1184</td>\n",
              "      <td>Shots for Tots</td>\n",
              "      <td>602</td>\n",
              "      <td>2010</td>\n",
              "    </tr>\n",
              "    <tr>\n",
              "      <th>4</th>\n",
              "      <td>Far South</td>\n",
              "      <td>FEB</td>\n",
              "      <td>761</td>\n",
              "      <td>Shots for Tots</td>\n",
              "      <td>337</td>\n",
              "      <td>2010</td>\n",
              "    </tr>\n",
              "    <tr>\n",
              "      <th>5</th>\n",
              "      <td>Far South</td>\n",
              "      <td>MAR</td>\n",
              "      <td>835</td>\n",
              "      <td>Shots for Tots</td>\n",
              "      <td>336</td>\n",
              "      <td>2010</td>\n",
              "    </tr>\n",
              "    <tr>\n",
              "      <th>6</th>\n",
              "      <td>Far South</td>\n",
              "      <td>APR</td>\n",
              "      <td>749</td>\n",
              "      <td>Shots for Tots</td>\n",
              "      <td>275</td>\n",
              "      <td>2010</td>\n",
              "    </tr>\n",
              "    <tr>\n",
              "      <th>7</th>\n",
              "      <td>Far South</td>\n",
              "      <td>MAY</td>\n",
              "      <td>764</td>\n",
              "      <td>Shots for Tots</td>\n",
              "      <td>251</td>\n",
              "      <td>2010</td>\n",
              "    </tr>\n",
              "    <tr>\n",
              "      <th>8</th>\n",
              "      <td>Far South</td>\n",
              "      <td>JUN</td>\n",
              "      <td>644</td>\n",
              "      <td>Shots for Tots</td>\n",
              "      <td>244</td>\n",
              "      <td>2010</td>\n",
              "    </tr>\n",
              "    <tr>\n",
              "      <th>9</th>\n",
              "      <td>Far South</td>\n",
              "      <td>JUL</td>\n",
              "      <td>943</td>\n",
              "      <td>Shots for Tots</td>\n",
              "      <td>352</td>\n",
              "      <td>2010</td>\n",
              "    </tr>\n",
              "  </tbody>\n",
              "</table>\n",
              "</div>"
            ],
            "text/plain": [
              "    location month  number_of_shots    program_name  visits  year\n",
              "0  Far South   OCT             1118  Shots for Tots     436  2010\n",
              "1  Far South   NOV             1600  Shots for Tots     879  2010\n",
              "2  Far South   DEC             1379  Shots for Tots     818  2010\n",
              "3  Far South   JAN             1184  Shots for Tots     602  2010\n",
              "4  Far South   FEB              761  Shots for Tots     337  2010\n",
              "5  Far South   MAR              835  Shots for Tots     336  2010\n",
              "6  Far South   APR              749  Shots for Tots     275  2010\n",
              "7  Far South   MAY              764  Shots for Tots     251  2010\n",
              "8  Far South   JUN              644  Shots for Tots     244  2010\n",
              "9  Far South   JUL              943  Shots for Tots     352  2010"
            ]
          },
          "metadata": {
            "tags": []
          },
          "execution_count": 72
        }
      ]
    },
    {
      "cell_type": "code",
      "metadata": {
        "id": "QldmDG8t-Dpq",
        "colab": {
          "base_uri": "https://localhost:8080/",
          "height": 141
        },
        "outputId": "37346250-1eb3-4dfa-a79f-1efe10dc1904"
      },
      "source": [
        "# it's easy to add a new column to a df.. Much list adding to a list! 👀\n",
        "shots_df['X']= 0 \n",
        "shots_df = shots_df.assign(shots_per_visit = shots_df.number_of_shots / shots_df.visits)\n",
        "shots_df.head(3)"
      ],
      "execution_count": null,
      "outputs": [
        {
          "output_type": "execute_result",
          "data": {
            "text/html": [
              "<div>\n",
              "<style scoped>\n",
              "    .dataframe tbody tr th:only-of-type {\n",
              "        vertical-align: middle;\n",
              "    }\n",
              "\n",
              "    .dataframe tbody tr th {\n",
              "        vertical-align: top;\n",
              "    }\n",
              "\n",
              "    .dataframe thead th {\n",
              "        text-align: right;\n",
              "    }\n",
              "</style>\n",
              "<table border=\"1\" class=\"dataframe\">\n",
              "  <thead>\n",
              "    <tr style=\"text-align: right;\">\n",
              "      <th></th>\n",
              "      <th>location</th>\n",
              "      <th>month</th>\n",
              "      <th>number_of_shots</th>\n",
              "      <th>program_name</th>\n",
              "      <th>visits</th>\n",
              "      <th>year</th>\n",
              "      <th>X</th>\n",
              "      <th>shots_per_visit</th>\n",
              "    </tr>\n",
              "  </thead>\n",
              "  <tbody>\n",
              "    <tr>\n",
              "      <th>0</th>\n",
              "      <td>Far South</td>\n",
              "      <td>OCT</td>\n",
              "      <td>1118</td>\n",
              "      <td>Shots for Tots</td>\n",
              "      <td>436</td>\n",
              "      <td>2010</td>\n",
              "      <td>0</td>\n",
              "      <td>2.564220</td>\n",
              "    </tr>\n",
              "    <tr>\n",
              "      <th>1</th>\n",
              "      <td>Far South</td>\n",
              "      <td>NOV</td>\n",
              "      <td>1600</td>\n",
              "      <td>Shots for Tots</td>\n",
              "      <td>879</td>\n",
              "      <td>2010</td>\n",
              "      <td>0</td>\n",
              "      <td>1.820250</td>\n",
              "    </tr>\n",
              "    <tr>\n",
              "      <th>2</th>\n",
              "      <td>Far South</td>\n",
              "      <td>DEC</td>\n",
              "      <td>1379</td>\n",
              "      <td>Shots for Tots</td>\n",
              "      <td>818</td>\n",
              "      <td>2010</td>\n",
              "      <td>0</td>\n",
              "      <td>1.685819</td>\n",
              "    </tr>\n",
              "  </tbody>\n",
              "</table>\n",
              "</div>"
            ],
            "text/plain": [
              "    location month  number_of_shots  ...  year  X  shots_per_visit\n",
              "0  Far South   OCT             1118  ...  2010  0         2.564220\n",
              "1  Far South   NOV             1600  ...  2010  0         1.820250\n",
              "2  Far South   DEC             1379  ...  2010  0         1.685819\n",
              "\n",
              "[3 rows x 8 columns]"
            ]
          },
          "metadata": {
            "tags": []
          },
          "execution_count": 74
        }
      ]
    },
    {
      "cell_type": "code",
      "metadata": {
        "id": "g-x0qaBU_Po0",
        "colab": {
          "base_uri": "https://localhost:8080/",
          "height": 203
        },
        "outputId": "3d00454e-0ae6-4de9-b154-4bc24dd28983"
      },
      "source": [
        "# ..or to remove an old one\n",
        "# remove one row\n",
        "shots_up_df = shots_df.drop(0, axis = 0)\n",
        "# remove one column\n",
        "shots_up_df = shots_df.drop('X', axis = 1)\n",
        "\n",
        "# review inplace = shots_up_df = shots_df.drop(0, axis = 0, inpla) HOVER\n",
        "# inplace=True overrides the original object, usually a DatFrame\n",
        "# instead of saving a new dataframe to itself, use inplace=True\n",
        "\n",
        "shots_up_df.head()"
      ],
      "execution_count": null,
      "outputs": [
        {
          "output_type": "execute_result",
          "data": {
            "text/html": [
              "<div>\n",
              "<style scoped>\n",
              "    .dataframe tbody tr th:only-of-type {\n",
              "        vertical-align: middle;\n",
              "    }\n",
              "\n",
              "    .dataframe tbody tr th {\n",
              "        vertical-align: top;\n",
              "    }\n",
              "\n",
              "    .dataframe thead th {\n",
              "        text-align: right;\n",
              "    }\n",
              "</style>\n",
              "<table border=\"1\" class=\"dataframe\">\n",
              "  <thead>\n",
              "    <tr style=\"text-align: right;\">\n",
              "      <th></th>\n",
              "      <th>location</th>\n",
              "      <th>month</th>\n",
              "      <th>number_of_shots</th>\n",
              "      <th>program_name</th>\n",
              "      <th>visits</th>\n",
              "      <th>year</th>\n",
              "      <th>shots_per_visit</th>\n",
              "    </tr>\n",
              "  </thead>\n",
              "  <tbody>\n",
              "    <tr>\n",
              "      <th>0</th>\n",
              "      <td>Far South</td>\n",
              "      <td>OCT</td>\n",
              "      <td>1118</td>\n",
              "      <td>Shots for Tots</td>\n",
              "      <td>436</td>\n",
              "      <td>2010</td>\n",
              "      <td>2.564220</td>\n",
              "    </tr>\n",
              "    <tr>\n",
              "      <th>1</th>\n",
              "      <td>Far South</td>\n",
              "      <td>NOV</td>\n",
              "      <td>1600</td>\n",
              "      <td>Shots for Tots</td>\n",
              "      <td>879</td>\n",
              "      <td>2010</td>\n",
              "      <td>1.820250</td>\n",
              "    </tr>\n",
              "    <tr>\n",
              "      <th>2</th>\n",
              "      <td>Far South</td>\n",
              "      <td>DEC</td>\n",
              "      <td>1379</td>\n",
              "      <td>Shots for Tots</td>\n",
              "      <td>818</td>\n",
              "      <td>2010</td>\n",
              "      <td>1.685819</td>\n",
              "    </tr>\n",
              "    <tr>\n",
              "      <th>3</th>\n",
              "      <td>Far South</td>\n",
              "      <td>JAN</td>\n",
              "      <td>1184</td>\n",
              "      <td>Shots for Tots</td>\n",
              "      <td>602</td>\n",
              "      <td>2010</td>\n",
              "      <td>1.966777</td>\n",
              "    </tr>\n",
              "    <tr>\n",
              "      <th>4</th>\n",
              "      <td>Far South</td>\n",
              "      <td>FEB</td>\n",
              "      <td>761</td>\n",
              "      <td>Shots for Tots</td>\n",
              "      <td>337</td>\n",
              "      <td>2010</td>\n",
              "      <td>2.258160</td>\n",
              "    </tr>\n",
              "  </tbody>\n",
              "</table>\n",
              "</div>"
            ],
            "text/plain": [
              "    location month  number_of_shots  ... visits  year  shots_per_visit\n",
              "0  Far South   OCT             1118  ...    436  2010         2.564220\n",
              "1  Far South   NOV             1600  ...    879  2010         1.820250\n",
              "2  Far South   DEC             1379  ...    818  2010         1.685819\n",
              "3  Far South   JAN             1184  ...    602  2010         1.966777\n",
              "4  Far South   FEB              761  ...    337  2010         2.258160\n",
              "\n",
              "[5 rows x 7 columns]"
            ]
          },
          "metadata": {
            "tags": []
          },
          "execution_count": 78
        }
      ]
    },
    {
      "cell_type": "code",
      "metadata": {
        "id": "TCV3eUdlA7jQ",
        "colab": {
          "base_uri": "https://localhost:8080/",
          "height": 357
        },
        "outputId": "9d2b53a4-5fdc-49fc-8aa5-daf7ff0896c8"
      },
      "source": [
        "# we can also select rows using index location\n",
        "new_var = shots_df.iloc[50:60]\n",
        "new_var"
      ],
      "execution_count": null,
      "outputs": [
        {
          "output_type": "execute_result",
          "data": {
            "text/html": [
              "<div>\n",
              "<style scoped>\n",
              "    .dataframe tbody tr th:only-of-type {\n",
              "        vertical-align: middle;\n",
              "    }\n",
              "\n",
              "    .dataframe tbody tr th {\n",
              "        vertical-align: top;\n",
              "    }\n",
              "\n",
              "    .dataframe thead th {\n",
              "        text-align: right;\n",
              "    }\n",
              "</style>\n",
              "<table border=\"1\" class=\"dataframe\">\n",
              "  <thead>\n",
              "    <tr style=\"text-align: right;\">\n",
              "      <th></th>\n",
              "      <th>location</th>\n",
              "      <th>month</th>\n",
              "      <th>number_of_shots</th>\n",
              "      <th>program_name</th>\n",
              "      <th>visits</th>\n",
              "      <th>year</th>\n",
              "      <th>X</th>\n",
              "      <th>shots_per_visit</th>\n",
              "    </tr>\n",
              "  </thead>\n",
              "  <tbody>\n",
              "    <tr>\n",
              "      <th>50</th>\n",
              "      <td>Far South</td>\n",
              "      <td>DEC</td>\n",
              "      <td>629</td>\n",
              "      <td>Shots for Tots</td>\n",
              "      <td>287</td>\n",
              "      <td>2011</td>\n",
              "      <td>0</td>\n",
              "      <td>2.191638</td>\n",
              "    </tr>\n",
              "    <tr>\n",
              "      <th>51</th>\n",
              "      <td>Far South</td>\n",
              "      <td>JAN</td>\n",
              "      <td>827</td>\n",
              "      <td>Shots for Tots</td>\n",
              "      <td>290</td>\n",
              "      <td>2011</td>\n",
              "      <td>0</td>\n",
              "      <td>2.851724</td>\n",
              "    </tr>\n",
              "    <tr>\n",
              "      <th>52</th>\n",
              "      <td>Far South</td>\n",
              "      <td>FEB</td>\n",
              "      <td>482</td>\n",
              "      <td>Shots for Tots</td>\n",
              "      <td>187</td>\n",
              "      <td>2011</td>\n",
              "      <td>0</td>\n",
              "      <td>2.577540</td>\n",
              "    </tr>\n",
              "    <tr>\n",
              "      <th>53</th>\n",
              "      <td>Far South</td>\n",
              "      <td>MAR</td>\n",
              "      <td>775</td>\n",
              "      <td>Shots for Tots</td>\n",
              "      <td>262</td>\n",
              "      <td>2011</td>\n",
              "      <td>0</td>\n",
              "      <td>2.958015</td>\n",
              "    </tr>\n",
              "    <tr>\n",
              "      <th>54</th>\n",
              "      <td>Far South</td>\n",
              "      <td>APR</td>\n",
              "      <td>547</td>\n",
              "      <td>Shots for Tots</td>\n",
              "      <td>172</td>\n",
              "      <td>2011</td>\n",
              "      <td>0</td>\n",
              "      <td>3.180233</td>\n",
              "    </tr>\n",
              "    <tr>\n",
              "      <th>55</th>\n",
              "      <td>Far South</td>\n",
              "      <td>MAY</td>\n",
              "      <td>583</td>\n",
              "      <td>Shots for Tots</td>\n",
              "      <td>195</td>\n",
              "      <td>2011</td>\n",
              "      <td>0</td>\n",
              "      <td>2.989744</td>\n",
              "    </tr>\n",
              "    <tr>\n",
              "      <th>56</th>\n",
              "      <td>Far South</td>\n",
              "      <td>JUN</td>\n",
              "      <td>728</td>\n",
              "      <td>Shots for Tots</td>\n",
              "      <td>269</td>\n",
              "      <td>2011</td>\n",
              "      <td>0</td>\n",
              "      <td>2.706320</td>\n",
              "    </tr>\n",
              "    <tr>\n",
              "      <th>57</th>\n",
              "      <td>Far South</td>\n",
              "      <td>JUL</td>\n",
              "      <td>899</td>\n",
              "      <td>Shots for Tots</td>\n",
              "      <td>313</td>\n",
              "      <td>2011</td>\n",
              "      <td>0</td>\n",
              "      <td>2.872204</td>\n",
              "    </tr>\n",
              "    <tr>\n",
              "      <th>58</th>\n",
              "      <td>Far South</td>\n",
              "      <td>AUG</td>\n",
              "      <td>2499</td>\n",
              "      <td>Shots for Tots</td>\n",
              "      <td>856</td>\n",
              "      <td>2011</td>\n",
              "      <td>0</td>\n",
              "      <td>2.919393</td>\n",
              "    </tr>\n",
              "    <tr>\n",
              "      <th>59</th>\n",
              "      <td>Far South</td>\n",
              "      <td>SEP</td>\n",
              "      <td>790</td>\n",
              "      <td>Shots for Tots</td>\n",
              "      <td>298</td>\n",
              "      <td>2011</td>\n",
              "      <td>0</td>\n",
              "      <td>2.651007</td>\n",
              "    </tr>\n",
              "  </tbody>\n",
              "</table>\n",
              "</div>"
            ],
            "text/plain": [
              "     location month  number_of_shots  ...  year  X  shots_per_visit\n",
              "50  Far South   DEC              629  ...  2011  0         2.191638\n",
              "51  Far South   JAN              827  ...  2011  0         2.851724\n",
              "52  Far South   FEB              482  ...  2011  0         2.577540\n",
              "53  Far South   MAR              775  ...  2011  0         2.958015\n",
              "54  Far South   APR              547  ...  2011  0         3.180233\n",
              "55  Far South   MAY              583  ...  2011  0         2.989744\n",
              "56  Far South   JUN              728  ...  2011  0         2.706320\n",
              "57  Far South   JUL              899  ...  2011  0         2.872204\n",
              "58  Far South   AUG             2499  ...  2011  0         2.919393\n",
              "59  Far South   SEP              790  ...  2011  0         2.651007\n",
              "\n",
              "[10 rows x 8 columns]"
            ]
          },
          "metadata": {
            "tags": []
          },
          "execution_count": 81
        }
      ]
    },
    {
      "cell_type": "code",
      "metadata": {
        "id": "zcjf6SPrB4_b",
        "colab": {
          "base_uri": "https://localhost:8080/",
          "height": 666
        },
        "outputId": "b8d400f6-fced-45a0-97f4-601b3be6f287"
      },
      "source": [
        "# or rows and columns\n",
        "shots_df.iloc[50:60, :3]"
      ],
      "execution_count": null,
      "outputs": [
        {
          "output_type": "execute_result",
          "data": {
            "text/html": [
              "<div>\n",
              "<style scoped>\n",
              "    .dataframe tbody tr th:only-of-type {\n",
              "        vertical-align: middle;\n",
              "    }\n",
              "\n",
              "    .dataframe tbody tr th {\n",
              "        vertical-align: top;\n",
              "    }\n",
              "\n",
              "    .dataframe thead th {\n",
              "        text-align: right;\n",
              "    }\n",
              "</style>\n",
              "<table border=\"1\" class=\"dataframe\">\n",
              "  <thead>\n",
              "    <tr style=\"text-align: right;\">\n",
              "      <th></th>\n",
              "      <th>location</th>\n",
              "    </tr>\n",
              "  </thead>\n",
              "  <tbody>\n",
              "    <tr>\n",
              "      <th>50</th>\n",
              "      <td>Far South</td>\n",
              "    </tr>\n",
              "    <tr>\n",
              "      <th>51</th>\n",
              "      <td>Far South</td>\n",
              "    </tr>\n",
              "    <tr>\n",
              "      <th>52</th>\n",
              "      <td>Far South</td>\n",
              "    </tr>\n",
              "    <tr>\n",
              "      <th>53</th>\n",
              "      <td>Far South</td>\n",
              "    </tr>\n",
              "    <tr>\n",
              "      <th>54</th>\n",
              "      <td>Far South</td>\n",
              "    </tr>\n",
              "    <tr>\n",
              "      <th>55</th>\n",
              "      <td>Far South</td>\n",
              "    </tr>\n",
              "    <tr>\n",
              "      <th>56</th>\n",
              "      <td>Far South</td>\n",
              "    </tr>\n",
              "    <tr>\n",
              "      <th>57</th>\n",
              "      <td>Far South</td>\n",
              "    </tr>\n",
              "    <tr>\n",
              "      <th>58</th>\n",
              "      <td>Far South</td>\n",
              "    </tr>\n",
              "    <tr>\n",
              "      <th>59</th>\n",
              "      <td>Far South</td>\n",
              "    </tr>\n",
              "    <tr>\n",
              "      <th>60</th>\n",
              "      <td>Far South</td>\n",
              "    </tr>\n",
              "    <tr>\n",
              "      <th>61</th>\n",
              "      <td>Far South</td>\n",
              "    </tr>\n",
              "    <tr>\n",
              "      <th>62</th>\n",
              "      <td>Far South</td>\n",
              "    </tr>\n",
              "    <tr>\n",
              "      <th>63</th>\n",
              "      <td>Far South</td>\n",
              "    </tr>\n",
              "    <tr>\n",
              "      <th>64</th>\n",
              "      <td>Far South</td>\n",
              "    </tr>\n",
              "    <tr>\n",
              "      <th>65</th>\n",
              "      <td>Far South</td>\n",
              "    </tr>\n",
              "    <tr>\n",
              "      <th>66</th>\n",
              "      <td>Far South</td>\n",
              "    </tr>\n",
              "    <tr>\n",
              "      <th>67</th>\n",
              "      <td>Far South</td>\n",
              "    </tr>\n",
              "    <tr>\n",
              "      <th>68</th>\n",
              "      <td>Far South</td>\n",
              "    </tr>\n",
              "    <tr>\n",
              "      <th>69</th>\n",
              "      <td>Far South</td>\n",
              "    </tr>\n",
              "  </tbody>\n",
              "</table>\n",
              "</div>"
            ],
            "text/plain": [
              "     location\n",
              "50  Far South\n",
              "51  Far South\n",
              "52  Far South\n",
              "53  Far South\n",
              "54  Far South\n",
              "55  Far South\n",
              "56  Far South\n",
              "57  Far South\n",
              "58  Far South\n",
              "59  Far South\n",
              "60  Far South\n",
              "61  Far South\n",
              "62  Far South\n",
              "63  Far South\n",
              "64  Far South\n",
              "65  Far South\n",
              "66  Far South\n",
              "67  Far South\n",
              "68  Far South\n",
              "69  Far South"
            ]
          },
          "metadata": {
            "tags": []
          },
          "execution_count": 83
        }
      ]
    },
    {
      "cell_type": "code",
      "metadata": {
        "id": "jBsf7F8KCg4V",
        "colab": {
          "base_uri": "https://localhost:8080/"
        },
        "outputId": "043d9d2b-72fa-4180-827a-332a5a5f0951"
      },
      "source": [
        "over_1000 = shots_df['number_of_shots'] > 1000\n",
        "over_1000.head(10)\n"
      ],
      "execution_count": null,
      "outputs": [
        {
          "output_type": "execute_result",
          "data": {
            "text/plain": [
              "0     True\n",
              "1     True\n",
              "2     True\n",
              "3     True\n",
              "4    False\n",
              "5    False\n",
              "6    False\n",
              "7    False\n",
              "8    False\n",
              "9    False\n",
              "Name: number_of_shots, dtype: bool"
            ]
          },
          "metadata": {
            "tags": []
          },
          "execution_count": 84
        }
      ]
    },
    {
      "cell_type": "code",
      "metadata": {
        "id": "l5OocBgwDfJd",
        "colab": {
          "base_uri": "https://localhost:8080/"
        },
        "outputId": "a82e8b27-c13b-4b64-9502-eeff57170e67"
      },
      "source": [
        "type(over_1000)"
      ],
      "execution_count": null,
      "outputs": [
        {
          "output_type": "execute_result",
          "data": {
            "text/plain": [
              "pandas.core.series.Series"
            ]
          },
          "metadata": {
            "tags": []
          },
          "execution_count": 85
        }
      ]
    },
    {
      "cell_type": "code",
      "metadata": {
        "colab": {
          "base_uri": "https://localhost:8080/"
        },
        "id": "YHm5YL9fPndN",
        "outputId": "f970a815-f58b-439b-c804-5f8027e7d487"
      },
      "source": [
        "over_1000.values"
      ],
      "execution_count": null,
      "outputs": [
        {
          "output_type": "execute_result",
          "data": {
            "text/plain": [
              "array([ True,  True,  True,  True, False, False, False, False, False,\n",
              "       False,  True,  True, False, False, False, False, False, False,\n",
              "       False, False, False, False, False, False,  True,  True,  True,\n",
              "        True,  True,  True,  True,  True,  True,  True,  True,  True,\n",
              "       False, False,  True, False, False, False, False, False, False,\n",
              "       False, False, False,  True, False, False, False, False, False,\n",
              "       False, False, False, False,  True, False, False, False, False,\n",
              "       False, False, False, False, False, False, False, False, False,\n",
              "        True,  True,  True,  True, False,  True, False, False, False,\n",
              "        True,  True, False, False, False, False, False, False, False,\n",
              "       False, False, False, False, False, False, False, False, False,\n",
              "       False, False, False, False, False, False, False,  True, False,\n",
              "       False, False, False, False, False, False, False, False, False,\n",
              "       False, False, False,  True,  True, False, False, False, False,\n",
              "       False, False, False,  True,  True,  True, False, False, False,\n",
              "       False, False, False, False, False, False, False, False, False,\n",
              "       False, False, False, False, False, False, False, False, False,\n",
              "       False,  True, False, False, False, False, False, False, False,\n",
              "       False, False, False, False, False, False,  True, False, False,\n",
              "       False, False, False, False, False, False, False,  True,  True,\n",
              "       False, False, False, False, False, False, False, False, False,\n",
              "       False, False, False, False, False, False, False, False, False,\n",
              "       False, False, False, False,  True, False, False, False, False,\n",
              "       False, False, False, False, False, False, False, False, False,\n",
              "        True, False, False, False, False, False, False, False, False,\n",
              "       False,  True,  True, False, False, False, False, False, False,\n",
              "       False, False, False, False, False, False, False, False, False,\n",
              "       False, False, False, False, False, False, False,  True, False,\n",
              "       False, False, False, False, False, False, False, False, False,\n",
              "       False, False, False,  True, False, False, False, False, False,\n",
              "       False, False, False, False,  True,  True, False, False, False,\n",
              "       False, False, False, False, False, False, False, False, False,\n",
              "       False, False, False, False, False, False, False, False, False,\n",
              "       False,  True, False, False, False, False, False, False, False,\n",
              "       False, False, False, False, False, False,  True,  True, False,\n",
              "        True, False, False, False, False, False, False,  True,  True,\n",
              "       False, False, False, False, False, False, False, False, False,\n",
              "       False, False, False, False, False, False, False, False, False,\n",
              "       False, False, False, False,  True, False, False, False, False,\n",
              "       False, False, False, False, False, False, False, False, False,\n",
              "        True,  True, False,  True,  True,  True,  True, False, False,\n",
              "       False,  True,  True, False, False, False, False, False, False,\n",
              "       False, False, False, False, False, False, False, False, False,\n",
              "       False, False, False, False, False, False, False,  True, False,\n",
              "       False, False, False, False, False, False, False, False, False,\n",
              "       False, False, False,  True,  True, False, False,  True, False,\n",
              "       False, False, False, False,  True,  True, False, False, False,\n",
              "       False, False, False, False, False, False, False, False, False])"
            ]
          },
          "metadata": {
            "tags": []
          },
          "execution_count": 86
        }
      ]
    },
    {
      "cell_type": "code",
      "metadata": {
        "id": "P3KvJ7WADTpO",
        "colab": {
          "base_uri": "https://localhost:8080/",
          "height": 415
        },
        "outputId": "cf970205-71e6-4352-8592-d7ba4978255f"
      },
      "source": [
        "# Store only True values using index location (super useful for capstone)\n",
        "shots_df.iloc[over_1000.values]"
      ],
      "execution_count": null,
      "outputs": [
        {
          "output_type": "execute_result",
          "data": {
            "text/html": [
              "<div>\n",
              "<style scoped>\n",
              "    .dataframe tbody tr th:only-of-type {\n",
              "        vertical-align: middle;\n",
              "    }\n",
              "\n",
              "    .dataframe tbody tr th {\n",
              "        vertical-align: top;\n",
              "    }\n",
              "\n",
              "    .dataframe thead th {\n",
              "        text-align: right;\n",
              "    }\n",
              "</style>\n",
              "<table border=\"1\" class=\"dataframe\">\n",
              "  <thead>\n",
              "    <tr style=\"text-align: right;\">\n",
              "      <th></th>\n",
              "      <th>location</th>\n",
              "      <th>month</th>\n",
              "      <th>number_of_shots</th>\n",
              "      <th>program_name</th>\n",
              "      <th>visits</th>\n",
              "      <th>year</th>\n",
              "      <th>X</th>\n",
              "      <th>shots_per_visit</th>\n",
              "    </tr>\n",
              "  </thead>\n",
              "  <tbody>\n",
              "    <tr>\n",
              "      <th>0</th>\n",
              "      <td>Far South</td>\n",
              "      <td>OCT</td>\n",
              "      <td>1118</td>\n",
              "      <td>Shots for Tots</td>\n",
              "      <td>436</td>\n",
              "      <td>2010</td>\n",
              "      <td>0</td>\n",
              "      <td>2.564220</td>\n",
              "    </tr>\n",
              "    <tr>\n",
              "      <th>1</th>\n",
              "      <td>Far South</td>\n",
              "      <td>NOV</td>\n",
              "      <td>1600</td>\n",
              "      <td>Shots for Tots</td>\n",
              "      <td>879</td>\n",
              "      <td>2010</td>\n",
              "      <td>0</td>\n",
              "      <td>1.820250</td>\n",
              "    </tr>\n",
              "    <tr>\n",
              "      <th>2</th>\n",
              "      <td>Far South</td>\n",
              "      <td>DEC</td>\n",
              "      <td>1379</td>\n",
              "      <td>Shots for Tots</td>\n",
              "      <td>818</td>\n",
              "      <td>2010</td>\n",
              "      <td>0</td>\n",
              "      <td>1.685819</td>\n",
              "    </tr>\n",
              "    <tr>\n",
              "      <th>3</th>\n",
              "      <td>Far South</td>\n",
              "      <td>JAN</td>\n",
              "      <td>1184</td>\n",
              "      <td>Shots for Tots</td>\n",
              "      <td>602</td>\n",
              "      <td>2010</td>\n",
              "      <td>0</td>\n",
              "      <td>1.966777</td>\n",
              "    </tr>\n",
              "    <tr>\n",
              "      <th>10</th>\n",
              "      <td>Far South</td>\n",
              "      <td>AUG</td>\n",
              "      <td>2492</td>\n",
              "      <td>Shots for Tots</td>\n",
              "      <td>868</td>\n",
              "      <td>2010</td>\n",
              "      <td>0</td>\n",
              "      <td>2.870968</td>\n",
              "    </tr>\n",
              "    <tr>\n",
              "      <th>...</th>\n",
              "      <td>...</td>\n",
              "      <td>...</td>\n",
              "      <td>...</td>\n",
              "      <td>...</td>\n",
              "      <td>...</td>\n",
              "      <td>...</td>\n",
              "      <td>...</td>\n",
              "      <td>...</td>\n",
              "    </tr>\n",
              "    <tr>\n",
              "      <th>408</th>\n",
              "      <td>St. Johns</td>\n",
              "      <td>OCT</td>\n",
              "      <td>1344</td>\n",
              "      <td>Shots for Tots</td>\n",
              "      <td>476</td>\n",
              "      <td>2018</td>\n",
              "      <td>0</td>\n",
              "      <td>2.823529</td>\n",
              "    </tr>\n",
              "    <tr>\n",
              "      <th>409</th>\n",
              "      <td>St. Johns</td>\n",
              "      <td>NOV</td>\n",
              "      <td>1109</td>\n",
              "      <td>Shots for Tots</td>\n",
              "      <td>383</td>\n",
              "      <td>2018</td>\n",
              "      <td>0</td>\n",
              "      <td>2.895561</td>\n",
              "    </tr>\n",
              "    <tr>\n",
              "      <th>412</th>\n",
              "      <td>St. Johns</td>\n",
              "      <td>FEB</td>\n",
              "      <td>1003</td>\n",
              "      <td>Shots for Tots</td>\n",
              "      <td>333</td>\n",
              "      <td>2018</td>\n",
              "      <td>0</td>\n",
              "      <td>3.012012</td>\n",
              "    </tr>\n",
              "    <tr>\n",
              "      <th>418</th>\n",
              "      <td>St. Johns</td>\n",
              "      <td>AUG</td>\n",
              "      <td>2996</td>\n",
              "      <td>Shots for Tots</td>\n",
              "      <td>983</td>\n",
              "      <td>2018</td>\n",
              "      <td>0</td>\n",
              "      <td>3.047813</td>\n",
              "    </tr>\n",
              "    <tr>\n",
              "      <th>419</th>\n",
              "      <td>St. Johns</td>\n",
              "      <td>SEP</td>\n",
              "      <td>1534</td>\n",
              "      <td>Shots for Tots</td>\n",
              "      <td>450</td>\n",
              "      <td>2018</td>\n",
              "      <td>0</td>\n",
              "      <td>3.408889</td>\n",
              "    </tr>\n",
              "  </tbody>\n",
              "</table>\n",
              "<p>67 rows × 8 columns</p>\n",
              "</div>"
            ],
            "text/plain": [
              "      location month  number_of_shots  ...  year  X  shots_per_visit\n",
              "0    Far South   OCT             1118  ...  2010  0         2.564220\n",
              "1    Far South   NOV             1600  ...  2010  0         1.820250\n",
              "2    Far South   DEC             1379  ...  2010  0         1.685819\n",
              "3    Far South   JAN             1184  ...  2010  0         1.966777\n",
              "10   Far South   AUG             2492  ...  2010  0         2.870968\n",
              "..         ...   ...              ...  ...   ... ..              ...\n",
              "408  St. Johns   OCT             1344  ...  2018  0         2.823529\n",
              "409  St. Johns   NOV             1109  ...  2018  0         2.895561\n",
              "412  St. Johns   FEB             1003  ...  2018  0         3.012012\n",
              "418  St. Johns   AUG             2996  ...  2018  0         3.047813\n",
              "419  St. Johns   SEP             1534  ...  2018  0         3.408889\n",
              "\n",
              "[67 rows x 8 columns]"
            ]
          },
          "metadata": {
            "tags": []
          },
          "execution_count": 87
        }
      ]
    },
    {
      "cell_type": "markdown",
      "metadata": {
        "id": "tgTJ1TheEQEn"
      },
      "source": [
        "## Manipulating DataFrames: Sorting, Pivots, Crosstabs"
      ]
    },
    {
      "cell_type": "code",
      "metadata": {
        "id": "XDSoXhv5FaLP"
      },
      "source": [
        "#read in shots df again\n",
        "shots_df = pd.read_json('https://tf-assets-prod.s3.amazonaws.com/tf-curric/data-analytics-bootcamp/shots.json')"
      ],
      "execution_count": null,
      "outputs": []
    },
    {
      "cell_type": "code",
      "metadata": {
        "id": "dfH6DtSfEPIB",
        "colab": {
          "base_uri": "https://localhost:8080/",
          "height": 141
        },
        "outputId": "4824e1c1-280e-4101-bd19-c2ca28df53d7"
      },
      "source": [
        "#sort by year then month then visits(per month), could be year/month only\n",
        "shots_df_sorted = shots_df.sort_values(by = ['year', 'month', 'visits'])\n",
        "shots_df_sorted.head(3)"
      ],
      "execution_count": null,
      "outputs": [
        {
          "output_type": "execute_result",
          "data": {
            "text/html": [
              "<div>\n",
              "<style scoped>\n",
              "    .dataframe tbody tr th:only-of-type {\n",
              "        vertical-align: middle;\n",
              "    }\n",
              "\n",
              "    .dataframe tbody tr th {\n",
              "        vertical-align: top;\n",
              "    }\n",
              "\n",
              "    .dataframe thead th {\n",
              "        text-align: right;\n",
              "    }\n",
              "</style>\n",
              "<table border=\"1\" class=\"dataframe\">\n",
              "  <thead>\n",
              "    <tr style=\"text-align: right;\">\n",
              "      <th></th>\n",
              "      <th>location</th>\n",
              "      <th>month</th>\n",
              "      <th>number_of_shots</th>\n",
              "      <th>program_name</th>\n",
              "      <th>visits</th>\n",
              "      <th>year</th>\n",
              "    </tr>\n",
              "  </thead>\n",
              "  <tbody>\n",
              "    <tr>\n",
              "      <th>42</th>\n",
              "      <td>St. Johns</td>\n",
              "      <td>APR</td>\n",
              "      <td>460</td>\n",
              "      <td>Big Shots</td>\n",
              "      <td>192</td>\n",
              "      <td>2010</td>\n",
              "    </tr>\n",
              "    <tr>\n",
              "      <th>18</th>\n",
              "      <td>Far South</td>\n",
              "      <td>APR</td>\n",
              "      <td>365</td>\n",
              "      <td>Big Shots</td>\n",
              "      <td>206</td>\n",
              "      <td>2010</td>\n",
              "    </tr>\n",
              "    <tr>\n",
              "      <th>6</th>\n",
              "      <td>Far South</td>\n",
              "      <td>APR</td>\n",
              "      <td>749</td>\n",
              "      <td>Shots for Tots</td>\n",
              "      <td>275</td>\n",
              "      <td>2010</td>\n",
              "    </tr>\n",
              "  </tbody>\n",
              "</table>\n",
              "</div>"
            ],
            "text/plain": [
              "     location month  number_of_shots    program_name  visits  year\n",
              "42  St. Johns   APR              460       Big Shots     192  2010\n",
              "18  Far South   APR              365       Big Shots     206  2010\n",
              "6   Far South   APR              749  Shots for Tots     275  2010"
            ]
          },
          "metadata": {
            "tags": []
          },
          "execution_count": 94
        }
      ]
    },
    {
      "cell_type": "code",
      "metadata": {
        "id": "bw8SZNsNF6dB",
        "colab": {
          "base_uri": "https://localhost:8080/",
          "height": 202
        },
        "outputId": "5e3bd521-ce44-46b1-856f-a4629ed3f5ac"
      },
      "source": [
        "#create a month-year column\n",
        "shots_df = shots_df.assign(month_year = shots_df.month + '/' + shots_df.year.astype(str))\n",
        "shots_df.head()"
      ],
      "execution_count": null,
      "outputs": [
        {
          "output_type": "execute_result",
          "data": {
            "text/html": [
              "<div>\n",
              "<style scoped>\n",
              "    .dataframe tbody tr th:only-of-type {\n",
              "        vertical-align: middle;\n",
              "    }\n",
              "\n",
              "    .dataframe tbody tr th {\n",
              "        vertical-align: top;\n",
              "    }\n",
              "\n",
              "    .dataframe thead th {\n",
              "        text-align: right;\n",
              "    }\n",
              "</style>\n",
              "<table border=\"1\" class=\"dataframe\">\n",
              "  <thead>\n",
              "    <tr style=\"text-align: right;\">\n",
              "      <th></th>\n",
              "      <th>location</th>\n",
              "      <th>month</th>\n",
              "      <th>number_of_shots</th>\n",
              "      <th>program_name</th>\n",
              "      <th>visits</th>\n",
              "      <th>year</th>\n",
              "      <th>month_year</th>\n",
              "    </tr>\n",
              "  </thead>\n",
              "  <tbody>\n",
              "    <tr>\n",
              "      <th>0</th>\n",
              "      <td>Far South</td>\n",
              "      <td>OCT</td>\n",
              "      <td>1118</td>\n",
              "      <td>Shots for Tots</td>\n",
              "      <td>436</td>\n",
              "      <td>2010</td>\n",
              "      <td>OCT/2010</td>\n",
              "    </tr>\n",
              "    <tr>\n",
              "      <th>1</th>\n",
              "      <td>Far South</td>\n",
              "      <td>NOV</td>\n",
              "      <td>1600</td>\n",
              "      <td>Shots for Tots</td>\n",
              "      <td>879</td>\n",
              "      <td>2010</td>\n",
              "      <td>NOV/2010</td>\n",
              "    </tr>\n",
              "    <tr>\n",
              "      <th>2</th>\n",
              "      <td>Far South</td>\n",
              "      <td>DEC</td>\n",
              "      <td>1379</td>\n",
              "      <td>Shots for Tots</td>\n",
              "      <td>818</td>\n",
              "      <td>2010</td>\n",
              "      <td>DEC/2010</td>\n",
              "    </tr>\n",
              "    <tr>\n",
              "      <th>3</th>\n",
              "      <td>Far South</td>\n",
              "      <td>JAN</td>\n",
              "      <td>1184</td>\n",
              "      <td>Shots for Tots</td>\n",
              "      <td>602</td>\n",
              "      <td>2010</td>\n",
              "      <td>JAN/2010</td>\n",
              "    </tr>\n",
              "    <tr>\n",
              "      <th>4</th>\n",
              "      <td>Far South</td>\n",
              "      <td>FEB</td>\n",
              "      <td>761</td>\n",
              "      <td>Shots for Tots</td>\n",
              "      <td>337</td>\n",
              "      <td>2010</td>\n",
              "      <td>FEB/2010</td>\n",
              "    </tr>\n",
              "  </tbody>\n",
              "</table>\n",
              "</div>"
            ],
            "text/plain": [
              "    location month  number_of_shots    program_name  visits  year month_year\n",
              "0  Far South   OCT             1118  Shots for Tots     436  2010   OCT/2010\n",
              "1  Far South   NOV             1600  Shots for Tots     879  2010   NOV/2010\n",
              "2  Far South   DEC             1379  Shots for Tots     818  2010   DEC/2010\n",
              "3  Far South   JAN             1184  Shots for Tots     602  2010   JAN/2010\n",
              "4  Far South   FEB              761  Shots for Tots     337  2010   FEB/2010"
            ]
          },
          "metadata": {
            "tags": []
          },
          "execution_count": 95
        }
      ]
    },
    {
      "cell_type": "code",
      "metadata": {
        "id": "A3eeLeqNHpgu",
        "colab": {
          "base_uri": "https://localhost:8080/",
          "height": 415
        },
        "outputId": "e0723aa1-a67b-4169-cdd0-44c6bd1b5c87"
      },
      "source": [
        "# Drop any duplicates that would mess up our pivot table\n",
        "shots_df_clean = shots_df.drop_duplicates(['month_year','location'])\n",
        "shots_df_clean\n",
        "# Create a pivot table\n",
        "shots_df_clean.pivot(index='month_year', columns='location', values='number_of_shots')\n",
        "# search for pandas.DataFrame.pivot in the Pandas documentation\n",
        "shots_df_clean"
      ],
      "execution_count": null,
      "outputs": [
        {
          "output_type": "execute_result",
          "data": {
            "text/html": [
              "<div>\n",
              "<style scoped>\n",
              "    .dataframe tbody tr th:only-of-type {\n",
              "        vertical-align: middle;\n",
              "    }\n",
              "\n",
              "    .dataframe tbody tr th {\n",
              "        vertical-align: top;\n",
              "    }\n",
              "\n",
              "    .dataframe thead th {\n",
              "        text-align: right;\n",
              "    }\n",
              "</style>\n",
              "<table border=\"1\" class=\"dataframe\">\n",
              "  <thead>\n",
              "    <tr style=\"text-align: right;\">\n",
              "      <th></th>\n",
              "      <th>location</th>\n",
              "      <th>month</th>\n",
              "      <th>number_of_shots</th>\n",
              "      <th>program_name</th>\n",
              "      <th>visits</th>\n",
              "      <th>year</th>\n",
              "      <th>month_year</th>\n",
              "    </tr>\n",
              "  </thead>\n",
              "  <tbody>\n",
              "    <tr>\n",
              "      <th>0</th>\n",
              "      <td>Far South</td>\n",
              "      <td>OCT</td>\n",
              "      <td>1118</td>\n",
              "      <td>Shots for Tots</td>\n",
              "      <td>436</td>\n",
              "      <td>2010</td>\n",
              "      <td>OCT/2010</td>\n",
              "    </tr>\n",
              "    <tr>\n",
              "      <th>1</th>\n",
              "      <td>Far South</td>\n",
              "      <td>NOV</td>\n",
              "      <td>1600</td>\n",
              "      <td>Shots for Tots</td>\n",
              "      <td>879</td>\n",
              "      <td>2010</td>\n",
              "      <td>NOV/2010</td>\n",
              "    </tr>\n",
              "    <tr>\n",
              "      <th>2</th>\n",
              "      <td>Far South</td>\n",
              "      <td>DEC</td>\n",
              "      <td>1379</td>\n",
              "      <td>Shots for Tots</td>\n",
              "      <td>818</td>\n",
              "      <td>2010</td>\n",
              "      <td>DEC/2010</td>\n",
              "    </tr>\n",
              "    <tr>\n",
              "      <th>3</th>\n",
              "      <td>Far South</td>\n",
              "      <td>JAN</td>\n",
              "      <td>1184</td>\n",
              "      <td>Shots for Tots</td>\n",
              "      <td>602</td>\n",
              "      <td>2010</td>\n",
              "      <td>JAN/2010</td>\n",
              "    </tr>\n",
              "    <tr>\n",
              "      <th>4</th>\n",
              "      <td>Far South</td>\n",
              "      <td>FEB</td>\n",
              "      <td>761</td>\n",
              "      <td>Shots for Tots</td>\n",
              "      <td>337</td>\n",
              "      <td>2010</td>\n",
              "      <td>FEB/2010</td>\n",
              "    </tr>\n",
              "    <tr>\n",
              "      <th>...</th>\n",
              "      <td>...</td>\n",
              "      <td>...</td>\n",
              "      <td>...</td>\n",
              "      <td>...</td>\n",
              "      <td>...</td>\n",
              "      <td>...</td>\n",
              "      <td>...</td>\n",
              "    </tr>\n",
              "    <tr>\n",
              "      <th>415</th>\n",
              "      <td>St. Johns</td>\n",
              "      <td>MAY</td>\n",
              "      <td>719</td>\n",
              "      <td>Shots for Tots</td>\n",
              "      <td>287</td>\n",
              "      <td>2018</td>\n",
              "      <td>MAY/2018</td>\n",
              "    </tr>\n",
              "    <tr>\n",
              "      <th>416</th>\n",
              "      <td>St. Johns</td>\n",
              "      <td>JUN</td>\n",
              "      <td>541</td>\n",
              "      <td>Shots for Tots</td>\n",
              "      <td>207</td>\n",
              "      <td>2018</td>\n",
              "      <td>JUN/2018</td>\n",
              "    </tr>\n",
              "    <tr>\n",
              "      <th>417</th>\n",
              "      <td>St. Johns</td>\n",
              "      <td>JUL</td>\n",
              "      <td>727</td>\n",
              "      <td>Shots for Tots</td>\n",
              "      <td>282</td>\n",
              "      <td>2018</td>\n",
              "      <td>JUL/2018</td>\n",
              "    </tr>\n",
              "    <tr>\n",
              "      <th>418</th>\n",
              "      <td>St. Johns</td>\n",
              "      <td>AUG</td>\n",
              "      <td>2996</td>\n",
              "      <td>Shots for Tots</td>\n",
              "      <td>983</td>\n",
              "      <td>2018</td>\n",
              "      <td>AUG/2018</td>\n",
              "    </tr>\n",
              "    <tr>\n",
              "      <th>419</th>\n",
              "      <td>St. Johns</td>\n",
              "      <td>SEP</td>\n",
              "      <td>1534</td>\n",
              "      <td>Shots for Tots</td>\n",
              "      <td>450</td>\n",
              "      <td>2018</td>\n",
              "      <td>SEP/2018</td>\n",
              "    </tr>\n",
              "  </tbody>\n",
              "</table>\n",
              "<p>216 rows × 7 columns</p>\n",
              "</div>"
            ],
            "text/plain": [
              "      location month  number_of_shots    program_name  visits  year month_year\n",
              "0    Far South   OCT             1118  Shots for Tots     436  2010   OCT/2010\n",
              "1    Far South   NOV             1600  Shots for Tots     879  2010   NOV/2010\n",
              "2    Far South   DEC             1379  Shots for Tots     818  2010   DEC/2010\n",
              "3    Far South   JAN             1184  Shots for Tots     602  2010   JAN/2010\n",
              "4    Far South   FEB              761  Shots for Tots     337  2010   FEB/2010\n",
              "..         ...   ...              ...             ...     ...   ...        ...\n",
              "415  St. Johns   MAY              719  Shots for Tots     287  2018   MAY/2018\n",
              "416  St. Johns   JUN              541  Shots for Tots     207  2018   JUN/2018\n",
              "417  St. Johns   JUL              727  Shots for Tots     282  2018   JUL/2018\n",
              "418  St. Johns   AUG             2996  Shots for Tots     983  2018   AUG/2018\n",
              "419  St. Johns   SEP             1534  Shots for Tots     450  2018   SEP/2018\n",
              "\n",
              "[216 rows x 7 columns]"
            ]
          },
          "metadata": {
            "tags": []
          },
          "execution_count": 97
        }
      ]
    },
    {
      "cell_type": "code",
      "metadata": {
        "id": "G8j46ulYIra2"
      },
      "source": [
        "# Search by program name to see total entries\n",
        "pd.crosstab(shots_df['program_name'],shots_df['location'])\n",
        "# search for crosstab in the Pandas documentation or hover"
      ],
      "execution_count": null,
      "outputs": []
    },
    {
      "cell_type": "markdown",
      "metadata": {
        "id": "qyPy0avH-0-9"
      },
      "source": [
        "### Python test is autograded so you have unlimted attempts 🐼"
      ]
    }
  ]
}